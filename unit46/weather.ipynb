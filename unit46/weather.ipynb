{
 "cells": [
  {
   "cell_type": "code",
   "execution_count": 5,
   "metadata": {},
   "outputs": [
    {
     "data": {
      "text/plain": [
       "[['서울', '25.6', '30'],\n",
       " ['백령도', '18.4', '62'],\n",
       " ['인천', '20.8', '54'],\n",
       " ['수원', '25.0', '41'],\n",
       " ['동두천', '24.9', '34'],\n",
       " ['파주', '25.1', '39'],\n",
       " ['강화', '20.0', '56'],\n",
       " ['양평', '25.5', '32'],\n",
       " ['이천', '25.6', '28'],\n",
       " ['북춘천', '24.6', '36'],\n",
       " ['북강릉', '19.9', '56'],\n",
       " ['울릉도', '16.8', '77'],\n",
       " ['속초', '19.1', '75'],\n",
       " ['철원', '23.9', '37'],\n",
       " ['대관령', '17.9', '49'],\n",
       " ['춘천', '25.7', '39'],\n",
       " ['강릉', '22.7', '41'],\n",
       " ['동해', '19.5', '77'],\n",
       " ['원주', '23.4', '36'],\n",
       " ['영월', '24.2', '34'],\n",
       " ['인제', '24.3', '31'],\n",
       " ['홍천', '25.4', '25'],\n",
       " ['태백', '19.6', '43'],\n",
       " ['정선군', '23.0', '32'],\n",
       " ['서산', '23.6', '49'],\n",
       " ['청주', '24.3', '33'],\n",
       " ['대전', '25.1', '37'],\n",
       " ['충주', '24.4', '32'],\n",
       " ['추풍령', '23.0', '35'],\n",
       " ['홍성(예)', '24.3', '46'],\n",
       " ['제천', '24.2', '32'],\n",
       " ['보은', '23.7', '28'],\n",
       " ['천안', '23.5', '35'],\n",
       " ['보령', '21.4', '56'],\n",
       " ['부여', '23.9', '37'],\n",
       " ['금산', '23.7', '30'],\n",
       " ['전주', '24.9', '44'],\n",
       " ['광주', '24.0', '35'],\n",
       " ['목포', '22.8', '51'],\n",
       " ['여수', '22.8', '49'],\n",
       " ['흑산도', '19.2', '93'],\n",
       " ['군산', '21.8', '55'],\n",
       " ['완도', '23.2', '45'],\n",
       " ['고창', '22.7', '53'],\n",
       " ['순천', '22.5', '40'],\n",
       " ['진도(첨찰산)', '22.2', '48'],\n",
       " ['부안', '22.9', '44'],\n",
       " ['임실', '22.8', '40'],\n",
       " ['정읍', '23.8', '47'],\n",
       " ['남원', '23.8', '35'],\n",
       " ['장수', '22.0', '33'],\n",
       " ['고창군', '23.7', '48'],\n",
       " ['영광군', '22.4', '40'],\n",
       " ['순창군', '23.5', '38'],\n",
       " ['보성군', '23.7', '34'],\n",
       " ['강진군', '24.1', '33'],\n",
       " ['장흥', '25.5', '33'],\n",
       " ['해남', '24.6', '40'],\n",
       " ['고흥', '24.4', '34'],\n",
       " ['광양시', '24.6', '43'],\n",
       " ['진도군', '21.9', '58'],\n",
       " ['제주', '20.7', '60'],\n",
       " ['고산', '19.1', '74'],\n",
       " ['성산', '23.1', '33'],\n",
       " ['서귀포', '24.0', '43'],\n",
       " ['안동', '25.0', '32'],\n",
       " ['포항', '19.0', '83'],\n",
       " ['대구', '25.7', '31'],\n",
       " ['울산', '19.7', '70'],\n",
       " ['창원', '20.6', '63'],\n",
       " ['부산', '20.2', '66'],\n",
       " ['울진', '17.6', '84'],\n",
       " ['상주', '25.0', '32'],\n",
       " ['통영', '20.0', '71'],\n",
       " ['진주', '23.8', '30'],\n",
       " ['김해시', '21.9', '60'],\n",
       " ['북창원', '22.8', '50'],\n",
       " ['양산시', '21.4', '63'],\n",
       " ['의령군', '25.1', '40'],\n",
       " ['함양군', '23.3', '38'],\n",
       " ['봉화', '22.0', '38'],\n",
       " ['영주', '23.0', '36'],\n",
       " ['문경', '25.5', '26'],\n",
       " ['청송군', '17.9', '71'],\n",
       " ['영덕', '19.4', '57'],\n",
       " ['의성', '25.7', '25'],\n",
       " ['구미', '25.7', '32'],\n",
       " ['영천', '21.8', '47'],\n",
       " ['경주시', '23.8', '49'],\n",
       " ['거창', '22.7', '38'],\n",
       " ['합천', '25.1', '32'],\n",
       " ['밀양', '24.7', '34'],\n",
       " ['산청', '24.8', '41'],\n",
       " ['거제', '23.1', '57'],\n",
       " ['남해', '24.5', '40']]"
      ]
     },
     "execution_count": 5,
     "metadata": {},
     "output_type": "execute_result"
    }
   ],
   "source": [
    "import requests                  # 웹 페이지의 HTML을 가져오는 모듈\n",
    "from bs4 import BeautifulSoup    # HTML을 파싱하는 모듈\n",
    "\n",
    "# 웹 페이지를 가져온 뒤 BeautifulSoup 객체로 만듦\n",
    "response = requests.get('https://pythondojang.bitbucket.io/weather/observation/currentweather.html')\n",
    "soup = BeautifulSoup(response.content, 'html.parser')\n",
    " \n",
    "table = soup.find('table', { 'class': 'table_develop3' })    # <table class=\"table_develop3\">을 찾음\n",
    "data = []                            # 데이터를 저장할 리스트 생성\n",
    "for tr in table.find_all('tr'):      # 모든 <tr> 태그를 찾아서 반복(각 지점의 데이터를 가져옴)\n",
    "    tds = list(tr.find_all('td'))    # 모든 <td> 태그를 찾아서 리스트로 만듦\n",
    "                                     # (각 날씨 값을 리스트로 만듦)\n",
    "    for td in tds:                   # <td> 태그 리스트 반복(각 날씨 값을 가져옴)\n",
    "        if td.find('a'):             # <td> 안에 <a> 태그가 있으면(지점인지 확인)\n",
    "            point = td.find('a').text    # <a> 태그 안에서 지점을 가져옴\n",
    "            temperature = tds[5].text    # <td> 태그 리스트의 여섯 번째(인덱스 5)에서 기온을 가져옴\n",
    "            humidity = tds[9].text       # <td> 태그 리스트의 열 번째(인덱스 9)에서 습도를 가져옴\n",
    "            data.append([point, temperature, humidity])    # data 리스트에 지점, 기온, 습도를 추가\n",
    " \n",
    "data    # data 표시. 주피터 노트북에서는 print를 사용하지 않아도 변수의 값이 표시됨"
   ]
  },
  {
   "cell_type": "code",
   "execution_count": 6,
   "metadata": {},
   "outputs": [],
   "source": [
    "with open('weather.csv', 'w') as file:    # weather.csv 파일을 쓰기 모드로 열기\n",
    "    file.write('point,temperature,humidity\\n')                  # 컬럼 이름 추가\n",
    "    for i in data:                                              # data를 반복하면서\n",
    "        file.write('{0},{1},{2}\\n'.format(i[0], i[1], i[2]))    # 지점,온도,습도를 줄 단위로 저장"
   ]
  },
  {
   "cell_type": "code",
   "execution_count": 7,
   "metadata": {},
   "outputs": [
    {
     "data": {
      "text/html": [
       "<div>\n",
       "<style scoped>\n",
       "    .dataframe tbody tr th:only-of-type {\n",
       "        vertical-align: middle;\n",
       "    }\n",
       "\n",
       "    .dataframe tbody tr th {\n",
       "        vertical-align: top;\n",
       "    }\n",
       "\n",
       "    .dataframe thead th {\n",
       "        text-align: right;\n",
       "    }\n",
       "</style>\n",
       "<table border=\"1\" class=\"dataframe\">\n",
       "  <thead>\n",
       "    <tr style=\"text-align: right;\">\n",
       "      <th></th>\n",
       "      <th>temperature</th>\n",
       "      <th>humidity</th>\n",
       "    </tr>\n",
       "    <tr>\n",
       "      <th>point</th>\n",
       "      <th></th>\n",
       "      <th></th>\n",
       "    </tr>\n",
       "  </thead>\n",
       "  <tbody>\n",
       "    <tr>\n",
       "      <th>서울</th>\n",
       "      <td>25.6</td>\n",
       "      <td>30</td>\n",
       "    </tr>\n",
       "    <tr>\n",
       "      <th>백령도</th>\n",
       "      <td>18.4</td>\n",
       "      <td>62</td>\n",
       "    </tr>\n",
       "    <tr>\n",
       "      <th>인천</th>\n",
       "      <td>20.8</td>\n",
       "      <td>54</td>\n",
       "    </tr>\n",
       "    <tr>\n",
       "      <th>수원</th>\n",
       "      <td>25.0</td>\n",
       "      <td>41</td>\n",
       "    </tr>\n",
       "    <tr>\n",
       "      <th>동두천</th>\n",
       "      <td>24.9</td>\n",
       "      <td>34</td>\n",
       "    </tr>\n",
       "    <tr>\n",
       "      <th>...</th>\n",
       "      <td>...</td>\n",
       "      <td>...</td>\n",
       "    </tr>\n",
       "    <tr>\n",
       "      <th>합천</th>\n",
       "      <td>25.1</td>\n",
       "      <td>32</td>\n",
       "    </tr>\n",
       "    <tr>\n",
       "      <th>밀양</th>\n",
       "      <td>24.7</td>\n",
       "      <td>34</td>\n",
       "    </tr>\n",
       "    <tr>\n",
       "      <th>산청</th>\n",
       "      <td>24.8</td>\n",
       "      <td>41</td>\n",
       "    </tr>\n",
       "    <tr>\n",
       "      <th>거제</th>\n",
       "      <td>23.1</td>\n",
       "      <td>57</td>\n",
       "    </tr>\n",
       "    <tr>\n",
       "      <th>남해</th>\n",
       "      <td>24.5</td>\n",
       "      <td>40</td>\n",
       "    </tr>\n",
       "  </tbody>\n",
       "</table>\n",
       "<p>95 rows × 2 columns</p>\n",
       "</div>"
      ],
      "text/plain": [
       "       temperature  humidity\n",
       "point                       \n",
       "서울            25.6        30\n",
       "백령도           18.4        62\n",
       "인천            20.8        54\n",
       "수원            25.0        41\n",
       "동두천           24.9        34\n",
       "...            ...       ...\n",
       "합천            25.1        32\n",
       "밀양            24.7        34\n",
       "산청            24.8        41\n",
       "거제            23.1        57\n",
       "남해            24.5        40\n",
       "\n",
       "[95 rows x 2 columns]"
      ]
     },
     "execution_count": 7,
     "metadata": {},
     "output_type": "execute_result"
    }
   ],
   "source": [
    "# %matplotlib inline을 설정하면 matplotlib.pyplot의 show 함수를 호출하지 않아도\n",
    "# 주피터 노트북 안에서 그래프가 표시됨\n",
    "%matplotlib inline\n",
    "import pandas as pd                # 데이터를 저장하고 처리하는 패키지\n",
    "import matplotlib as mpl           # 그래프를 그리는 패키지\n",
    "import matplotlib.pyplot as plt    # 그래프를 그리는 패키지\n",
    " \n",
    "# csv 파일을 읽어서 DataFrame 객체로 만듦. 인덱스 컬럼은 point로 설정\n",
    "df = pd.read_csv('weather.csv', index_col='point', encoding='utf-8')\n",
    "df    # df 표시"
   ]
  },
  {
   "cell_type": "code",
   "execution_count": 8,
   "metadata": {},
   "outputs": [
    {
     "data": {
      "text/html": [
       "<div>\n",
       "<style scoped>\n",
       "    .dataframe tbody tr th:only-of-type {\n",
       "        vertical-align: middle;\n",
       "    }\n",
       "\n",
       "    .dataframe tbody tr th {\n",
       "        vertical-align: top;\n",
       "    }\n",
       "\n",
       "    .dataframe thead th {\n",
       "        text-align: right;\n",
       "    }\n",
       "</style>\n",
       "<table border=\"1\" class=\"dataframe\">\n",
       "  <thead>\n",
       "    <tr style=\"text-align: right;\">\n",
       "      <th></th>\n",
       "      <th>temperature</th>\n",
       "      <th>humidity</th>\n",
       "    </tr>\n",
       "    <tr>\n",
       "      <th>point</th>\n",
       "      <th></th>\n",
       "      <th></th>\n",
       "    </tr>\n",
       "  </thead>\n",
       "  <tbody>\n",
       "    <tr>\n",
       "      <th>서울</th>\n",
       "      <td>25.6</td>\n",
       "      <td>30</td>\n",
       "    </tr>\n",
       "    <tr>\n",
       "      <th>인천</th>\n",
       "      <td>20.8</td>\n",
       "      <td>54</td>\n",
       "    </tr>\n",
       "    <tr>\n",
       "      <th>대전</th>\n",
       "      <td>25.1</td>\n",
       "      <td>37</td>\n",
       "    </tr>\n",
       "    <tr>\n",
       "      <th>대구</th>\n",
       "      <td>25.7</td>\n",
       "      <td>31</td>\n",
       "    </tr>\n",
       "    <tr>\n",
       "      <th>광주</th>\n",
       "      <td>24.0</td>\n",
       "      <td>35</td>\n",
       "    </tr>\n",
       "    <tr>\n",
       "      <th>부산</th>\n",
       "      <td>20.2</td>\n",
       "      <td>66</td>\n",
       "    </tr>\n",
       "    <tr>\n",
       "      <th>울산</th>\n",
       "      <td>19.7</td>\n",
       "      <td>70</td>\n",
       "    </tr>\n",
       "  </tbody>\n",
       "</table>\n",
       "</div>"
      ],
      "text/plain": [
       "       temperature  humidity\n",
       "point                       \n",
       "서울            25.6        30\n",
       "인천            20.8        54\n",
       "대전            25.1        37\n",
       "대구            25.7        31\n",
       "광주            24.0        35\n",
       "부산            20.2        66\n",
       "울산            19.7        70"
      ]
     },
     "execution_count": 8,
     "metadata": {},
     "output_type": "execute_result"
    }
   ],
   "source": [
    "# 특별시, 광역시만 모아서 DataFrame 객체로 만듦\n",
    "city_df = df.loc[['서울', '인천', '대전', '대구', '광주', '부산', '울산']]\n",
    "city_df    # city_df 표시"
   ]
  },
  {
   "cell_type": "code",
   "execution_count": 9,
   "metadata": {},
   "outputs": [
    {
     "data": {
      "text/plain": [
       "<matplotlib.legend.Legend at 0x7fcda344bac0>"
      ]
     },
     "execution_count": 9,
     "metadata": {},
     "output_type": "execute_result"
    },
    {
     "data": {
      "image/png": "[encoded data removed]",
      "text/plain": [
       "<Figure size 864x288 with 1 Axes>"
      ]
     },
     "metadata": {
      "needs_background": "light"
     },
     "output_type": "display_data"
    }
   ],
   "source": [
    "\n",
    "font = mpl.font_manager.FontProperties(fname='/Library/Fonts/NanumBarunGothic.ttf').get_name()\n",
    "mpl.rc('font', family=font)\n",
    "# 차트 종류, 제목, 차트 크기, 범례, 폰트 크기 설정\n",
    "ax = city_df.plot(kind='bar', title='날씨', figsize=(12, 4), legend=True, fontsize=12)\n",
    "ax.set_xlabel('도시', fontsize=12)          # x축 정보 표시\n",
    "ax.set_ylabel('기온/습도', fontsize=12)     # y축 정보 표시\n",
    "ax.legend(['기온', '습도'], fontsize=12)    # 범례 지정"
   ]
  },
  {
   "cell_type": "code",
   "execution_count": 10,
   "metadata": {},
   "outputs": [
    {
     "data": {
      "text/plain": [
       "'/Users/pch/.matplotlib'"
      ]
     },
     "execution_count": 10,
     "metadata": {},
     "output_type": "execute_result"
    }
   ],
   "source": []
  },
  {
   "cell_type": "code",
   "execution_count": 1,
   "metadata": {},
   "outputs": [
    {
     "name": "stdout",
     "output_type": "stream",
     "text": [
      "/Library/Frameworks/Python.framework/Versions/3.9/bin/python3\n",
      "['/Users/pch/study/coding-studio/unit46', '/Library/Frameworks/Python.framework/Versions/3.9/lib/python39.zip', '/Library/Frameworks/Python.framework/Versions/3.9/lib/python3.9', '/Library/Frameworks/Python.framework/Versions/3.9/lib/python3.9/lib-dynload', '', '/Users/pch/Library/Python/3.9/lib/python/site-packages', '/Library/Frameworks/Python.framework/Versions/3.9/lib/python3.9/site-packages', '/Users/pch/Library/Python/3.9/lib/python/site-packages/IPython/extensions', '/Users/pch/.ipython']\n"
     ]
    }
   ],
   "source": [
    "import sys\n",
    "print(sys.executable)\n",
    "print(sys.path)"
   ]
  },
  {
   "cell_type": "code",
   "execution_count": 4,
   "metadata": {},
   "outputs": [
    {
     "name": "stdout",
     "output_type": "stream",
     "text": [
      "Collecting bs4\n",
      "  Using cached bs4-0.0.1.tar.gz (1.1 kB)\n",
      "Collecting beautifulsoup4\n",
      "  Downloading beautifulsoup4-4.9.3-py3-none-any.whl (115 kB)\n",
      "\u001b[K     |████████████████████████████████| 115 kB 1.7 MB/s eta 0:00:01\n",
      "\u001b[?25hCollecting soupsieve>1.2\n",
      "  Downloading soupsieve-2.2.1-py3-none-any.whl (33 kB)\n",
      "Using legacy 'setup.py install' for bs4, since package 'wheel' is not installed.\n",
      "Installing collected packages: soupsieve, beautifulsoup4, bs4\n",
      "    Running setup.py install for bs4 ... \u001b[?25ldone\n",
      "\u001b[?25hSuccessfully installed beautifulsoup4-4.9.3 bs4-0.0.1 soupsieve-2.2.1\n"
     ]
    }
   ],
   "source": [
    "!pip3 install bs4"
   ]
  },
  {
   "cell_type": "code",
   "execution_count": null,
   "metadata": {},
   "outputs": [],
   "source": []
  }
 ],
 "metadata": {
  "interpreter": {
   "hash": "aee8b7b246df8f9039afb4144a1f6fd8d2ca17a180786b69acc140d282b71a49"
  },
  "kernelspec": {
   "display_name": "Python 3 (ipykernel)",
   "language": "python",
   "name": "python3"
  },
  "language_info": {
   "codemirror_mode": {
    "name": "ipython",
    "version": 3
   },
   "file_extension": ".py",
   "mimetype": "text/x-python",
   "name": "python",
   "nbconvert_exporter": "python",
   "pygments_lexer": "ipython3",
   "version": "3.9.0"
  }
 },
 "nbformat": 4,
 "nbformat_minor": 4
}
